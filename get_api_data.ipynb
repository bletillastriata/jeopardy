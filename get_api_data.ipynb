{
 "cells": [
  {
   "cell_type": "code",
   "execution_count": null,
   "metadata": {},
   "outputs": [],
   "source": [
    "import numpy as np\n",
    "import pandas as pd\n",
    "import requests\n",
    "import ast"
   ]
  },
  {
   "cell_type": "code",
   "execution_count": null,
   "metadata": {},
   "outputs": [],
   "source": [
    "results = []\n",
    "offset = 0\n",
    "NUM_CLUES = 156809\n",
    "\n",
    "try:\n",
    "    r = requests.get('http://jservice.io/api/clues?offset=%d' % offset)\n",
    "except requests.exceptions.HTTPError as e:\n",
    "    print(\"error: %s\" %(e))\n",
    "    \n",
    "while offset < NUM_CLUES:\n",
    "    try:\n",
    "        r = requests.get('http://jservice.io/api/clues?offset=%d' % offset)\n",
    "    except requests.exceptions.HTTPError as err:\n",
    "        print(err)\n",
    "    if (offset % 10000) == 0:\n",
    "        print(\"done %d\" % offset)"
   ]
  },
  {
   "cell_type": "code",
   "execution_count": null,
   "metadata": {},
   "outputs": [],
   "source": [
    "raw_data = pd.DataFrame.from_dict(results[0].json())\n",
    "\n",
    "for i in range(1, 1568):\n",
    "    raw_data = raw_data.append(results[i].json())\n",
    "    if (i % 100) == 0:\n",
    "        print('done %d' % i)"
   ]
  },
  {
   "cell_type": "code",
   "execution_count": null,
   "metadata": {},
   "outputs": [],
   "source": [
    "raw_data.head()"
   ]
  },
  {
   "cell_type": "code",
   "execution_count": null,
   "metadata": {},
   "outputs": [],
   "source": [
    "raw_data.info()"
   ]
  },
  {
   "cell_type": "code",
   "execution_count": null,
   "metadata": {},
   "outputs": [],
   "source": [
    "raw_data.to_csv('raw_api_data')"
   ]
  },
  {
   "cell_type": "code",
   "execution_count": null,
   "metadata": {},
   "outputs": [],
   "source": [
    "new_data = raw_data.drop(['game_id'], 1)\n",
    "new_data.drop(['invalid_count'], 1, inplace=True)\n",
    "new_data = new_data[pd.notnull(new_data['value'])]\n",
    "new_data = new_data[pd.notnull(new_data['category_id'])]\n",
    "new_data = new_data[pd.notnull(new_data['category'])]\n",
    "\n",
    "new_data = new_data[new_data.answer != '=']\n",
    "new_data = new_data[new_data.question != '[filler]']\n",
    "new_data = new_data[new_data.question != '[video clue]']\n",
    "new_data = new_data[new_data.question != '[audio clue]']\n",
    "new_data = new_data[new_data.question != '(audio clue)']\n",
    "new_data = new_data[new_data.question != '(audio clue)']"
   ]
  },
  {
   "cell_type": "code",
   "execution_count": null,
   "metadata": {},
   "outputs": [],
   "source": [
    "new_data.to_csv('cleaned_api_data')"
   ]
  },
  {
   "cell_type": "code",
   "execution_count": null,
   "metadata": {},
   "outputs": [],
   "source": [
    "new_data.head()"
   ]
  },
  {
   "cell_type": "code",
   "execution_count": null,
   "metadata": {},
   "outputs": [],
   "source": [
    "new_data.info()"
   ]
  },
  {
   "cell_type": "code",
   "execution_count": null,
   "metadata": {},
   "outputs": [],
   "source": [
    "raw_cat_data = pd.DataFrame.from_dict(new_data.loc[:,'category'][:])\n",
    "\n"
   ]
  },
  {
   "cell_type": "code",
   "execution_count": null,
   "metadata": {},
   "outputs": [],
   "source": [
    "raw_cat_data.head()"
   ]
  },
  {
   "cell_type": "code",
   "execution_count": null,
   "metadata": {},
   "outputs": [],
   "source": [
    "split_cat_data = pd.DataFrame()\n",
    "\n",
    "i = 0\n",
    "\n",
    "for row in raw_cat_data.iterrows():\n",
    "    try:\n",
    "        cat_info = str(split_cat_data.iloc[i, 0])\n",
    "        cat_breakdown = ast.literal_eval(cat_info)\n",
    "        split_cat_data = split_cat_data.append(cat_breakdown, ignore_index=True)\n",
    "    except ValueError as e:\n",
    "        print('error was %s at %d: %s' %(e, i, cat_info)\n",
    "    \n",
    "    i += 1\n",
    "    if (i % 10000) == 0:\n",
    "              print('done %d' %i)        "
   ]
  },
  {
   "cell_type": "code",
   "execution_count": null,
   "metadata": {},
   "outputs": [],
   "source": [
    "split_cat_data.head()"
   ]
  },
  {
   "cell_type": "code",
   "execution_count": null,
   "metadata": {},
   "outputs": [],
   "source": [
    "new_data['category_name'] = pd.Series(split_cat_data['title'])"
   ]
  },
  {
   "cell_type": "code",
   "execution_count": null,
   "metadata": {},
   "outputs": [],
   "source": [
    "new_data.head()"
   ]
  },
  {
   "cell_type": "code",
   "execution_count": null,
   "metadata": {},
   "outputs": [],
   "source": [
    "new_data.to_csv('final_api_data')"
   ]
  }
 ],
 "metadata": {
  "kernelspec": {
   "display_name": "Python 3",
   "language": "python",
   "name": "python3"
  },
  "language_info": {
   "codemirror_mode": {
    "name": "ipython",
    "version": 3
   },
   "file_extension": ".py",
   "mimetype": "text/x-python",
   "name": "python",
   "nbconvert_exporter": "python",
   "pygments_lexer": "ipython3",
   "version": "3.7.4"
  }
 },
 "nbformat": 4,
 "nbformat_minor": 2
}
